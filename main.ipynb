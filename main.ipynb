{
 "cells": [
  {
   "cell_type": "markdown",
   "metadata": {},
   "source": [
    "Модель RandomForestClassifier "
   ]
  },
  {
   "cell_type": "code",
   "execution_count": 2,
   "metadata": {},
   "outputs": [
    {
     "name": "stdout",
     "output_type": "stream",
     "text": [
      "Fitting 3 folds for each of 10 candidates, totalling 30 fits\n",
      "Найкращі параметри: {'n_estimators': 100, 'min_samples_split': 2, 'min_samples_leaf': 1, 'max_depth': None}\n",
      "Accuracy: 0.9684\n",
      "Precision: 0.9705\n",
      "Recall: 0.9717\n",
      "F1 Score: 0.9711\n",
      "              precision    recall  f1-score   support\n",
      "\n",
      "           0       0.97      0.96      0.97      6553\n",
      "           1       0.97      0.97      0.97      7902\n",
      "\n",
      "    accuracy                           0.97     14455\n",
      "   macro avg       0.97      0.97      0.97     14455\n",
      "weighted avg       0.97      0.97      0.97     14455\n",
      "\n",
      "Матриця неточностей:\n",
      "[[6320  233]\n",
      " [ 224 7678]]\n"
     ]
    }
   ],
   "source": [
    "import pandas as pd\n",
    "import numpy as np\n",
    "from sklearn.model_selection import train_test_split, RandomizedSearchCV\n",
    "from sklearn.preprocessing import StandardScaler\n",
    "from sklearn.ensemble import RandomForestClassifier\n",
    "from sklearn.metrics import accuracy_score, precision_score, recall_score, f1_score, confusion_matrix, classification_report\n",
    "\n",
    "# Завантаження даних\n",
    "df = pd.read_csv(r'archive\\internet_service_churn.csv')\n",
    "\n",
    "# Попередня обробка даних (закодування категоріальних змінних)\n",
    "df = pd.get_dummies(df, drop_first=True)\n",
    "\n",
    "# Заповнюємо стовбець reamining_contract нульом\n",
    "data_mode = df.copy()\n",
    "data_mode['reamining_contract'] = data_mode['reamining_contract'].fillna(data_mode['reamining_contract'].mode()[0])\n",
    "\n",
    "\n",
    "# Відділяємо ознаки і цільову змінну\n",
    "X = data_mode.drop('churn', axis=1)  # Все крім стовпця 'Churn'\n",
    "y = data_mode['churn']  # Цільова змінна\n",
    "\n",
    "# Розділяємо дані на тренувальний і тестовий набори\n",
    "X_train, X_test, y_train, y_test = train_test_split(X, y, test_size=0.2, random_state=42)\n",
    "\n",
    "# Нормалізація даних (StandardScaler)\n",
    "scaler = StandardScaler()\n",
    "X_train = scaler.fit_transform(X_train)\n",
    "X_test = scaler.transform(X_test)\n",
    "\n",
    "# Вибір алгоритму (RandomForest)\n",
    "model = RandomForestClassifier(random_state=42)\n",
    "\n",
    "# Крос-валідація з RandomizedSearch для пошуку найкращих параметрів\n",
    "param_grid = {\n",
    "    'n_estimators': [100, 200],  # Зменшено кількість варіантів\n",
    "    'max_depth': [None, 10],\n",
    "    'min_samples_split': [2, 5],\n",
    "    'min_samples_leaf': [1, 2]\n",
    "}\n",
    "\n",
    "# Використовуємо RandomizedSearchCV замість GridSearchCV\n",
    "random_search = RandomizedSearchCV(estimator=model, param_distributions=param_grid, \n",
    "                                   n_iter=10, cv=3, scoring='accuracy', n_jobs=-1, verbose=2, random_state=42)\n",
    "random_search.fit(X_train, y_train)\n",
    "\n",
    "# Найкращі параметри\n",
    "best_model = random_search.best_estimator_\n",
    "print(f'Найкращі параметри: {random_search.best_params_}')\n",
    "\n",
    "# Прогнозування\n",
    "y_pred = best_model.predict(X_test)\n",
    "\n",
    "# Оцінювання моделі\n",
    "accuracy = accuracy_score(y_test, y_pred)\n",
    "precision = precision_score(y_test, y_pred)\n",
    "recall = recall_score(y_test, y_pred)\n",
    "f1 = f1_score(y_test, y_pred)\n",
    "\n",
    "print(f'Accuracy: {accuracy:.4f}')\n",
    "print(f'Precision: {precision:.4f}')\n",
    "print(f'Recall: {recall:.4f}')\n",
    "print(f'F1 Score: {f1:.4f}')\n",
    "\n",
    "# Виведення докладного звіту\n",
    "print(classification_report(y_test, y_pred))\n",
    "\n",
    "# Матриця неточностей\n",
    "conf_matrix = confusion_matrix(y_test, y_pred)\n",
    "print(f'Матриця неточностей:\\n{conf_matrix}')\n"
   ]
  }
 ],
 "metadata": {
  "kernelspec": {
   "display_name": "Python 3",
   "language": "python",
   "name": "python3"
  },
  "language_info": {
   "codemirror_mode": {
    "name": "ipython",
    "version": 3
   },
   "file_extension": ".py",
   "mimetype": "text/x-python",
   "name": "python",
   "nbconvert_exporter": "python",
   "pygments_lexer": "ipython3",
   "version": "3.12.3"
  }
 },
 "nbformat": 4,
 "nbformat_minor": 2
}
