{
 "cells": [
  {
   "cell_type": "markdown",
   "metadata": {},
   "source": [
    "Label Encoding застосовується для трьох бінарних змінних:\n",
    "is_tv_subscriber\n",
    "is_movie_package_subscriber\n",
    "churn\n",
    "Це перетворює ці змінні на числові значення (0 і 1), що полегшує їх використання в моделях машинного навчання.\n",
    "\n",
    "Видалення стовпця id, який не є інформативним для моделювання, оскільки це лише ідентифікатор."
   ]
  },
  {
   "cell_type": "code",
   "execution_count": 1,
   "metadata": {},
   "outputs": [
    {
     "name": "stdout",
     "output_type": "stream",
     "text": [
      "   is_tv_subscriber  is_movie_package_subscriber  subscription_age  bill_avg  \\\n",
      "0                 1                            0             11.95        25   \n",
      "1                 0                            0              8.22         0   \n",
      "2                 1                            0              8.91        16   \n",
      "3                 0                            0              6.87        21   \n",
      "4                 0                            0              6.39         0   \n",
      "\n",
      "   reamining_contract  service_failure_count  download_avg  upload_avg  \\\n",
      "0                0.14                      0           8.4         2.3   \n",
      "1                 NaN                      0           0.0         0.0   \n",
      "2                0.00                      0          13.7         0.9   \n",
      "3                 NaN                      1           0.0         0.0   \n",
      "4                 NaN                      0           0.0         0.0   \n",
      "\n",
      "   download_over_limit  churn  \n",
      "0                    0      0  \n",
      "1                    0      1  \n",
      "2                    0      1  \n",
      "3                    0      1  \n",
      "4                    0      1  \n"
     ]
    }
   ],
   "source": [
    "import pandas as pd\n",
    "from sklearn.preprocessing import LabelEncoder\n",
    "\n",
    "# Загрузка данных из CSV файла\n",
    "data = pd.read_csv('archive\\internet_service_churn.csv')\n",
    "\n",
    "# Кодування бінарних змінних\n",
    "le = LabelEncoder()\n",
    "data['is_tv_subscriber'] = le.fit_transform(data['is_tv_subscriber'])\n",
    "data['is_movie_package_subscriber'] = le.fit_transform(data['is_movie_package_subscriber'])\n",
    "data['churn'] = le.fit_transform(data['churn'])\n",
    "\n",
    "# Видалення непотрібного стовпця 'id'\n",
    "data = data.drop(columns=['id'])\n",
    "\n",
    "# Перевіряємо результат кодування\n",
    "print(data.head())"
   ]
  }
 ],
 "metadata": {
  "kernelspec": {
   "display_name": "venv",
   "language": "python",
   "name": "python3"
  },
  "language_info": {
   "codemirror_mode": {
    "name": "ipython",
    "version": 3
   },
   "file_extension": ".py",
   "mimetype": "text/x-python",
   "name": "python",
   "nbconvert_exporter": "python",
   "pygments_lexer": "ipython3",
   "version": "3.11.4"
  }
 },
 "nbformat": 4,
 "nbformat_minor": 2
}
